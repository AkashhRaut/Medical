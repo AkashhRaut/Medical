{
 "cells": [
  {
   "cell_type": "markdown",
   "id": "1748cb40",
   "metadata": {},
   "source": [
    "## Git"
   ]
  },
  {
   "cell_type": "code",
   "execution_count": null,
   "id": "6e6d1fa3",
   "metadata": {},
   "outputs": [],
   "source": [
    "Git is a free and open source distributed version control system designed to handle everything \n",
    "from small to very large projects with speed and efficiency.\n",
    "\n",
    "Git is easy to learn and has a tiny footprint with lightning fast performance. \n",
    "It outclasses SCM tools like Subversion, CVS, Perforce, and ClearCase with features like cheap \n",
    "local branching, convenient staging areas, and multiple workflows\n"
   ]
  },
  {
   "cell_type": "markdown",
   "id": "af52aeb7",
   "metadata": {},
   "source": [
    "### Git Services"
   ]
  },
  {
   "cell_type": "code",
   "execution_count": null,
   "id": "31ad6ca9",
   "metadata": {},
   "outputs": [],
   "source": [
    "1. GitHub\n",
    "2. GitLab\n",
    "3. Bitbucket"
   ]
  },
  {
   "cell_type": "markdown",
   "id": "2abb81c8",
   "metadata": {},
   "source": [
    "### Download Git"
   ]
  },
  {
   "cell_type": "code",
   "execution_count": null,
   "id": "6ce43a53",
   "metadata": {},
   "outputs": [],
   "source": [
    "https://git-scm.com/downloads\n",
    "    \n",
    "    "
   ]
  },
  {
   "cell_type": "markdown",
   "id": "c356d832",
   "metadata": {},
   "source": [
    "### Git Features"
   ]
  },
  {
   "cell_type": "code",
   "execution_count": null,
   "id": "bc5a5810",
   "metadata": {},
   "outputs": [],
   "source": [
    "1. Open Source\n",
    "2. Branching and Merging\n",
    "3. Track your changes\n",
    "4. Security\n",
    "5. Speed"
   ]
  },
  {
   "cell_type": "code",
   "execution_count": null,
   "id": "80864f85",
   "metadata": {},
   "outputs": [],
   "source": []
  },
  {
   "cell_type": "code",
   "execution_count": null,
   "id": "e52cc616",
   "metadata": {},
   "outputs": [],
   "source": [
    "JIRA:\n",
    "    Sprint1:\n",
    "        EDA(3 days)\n",
    "        Feature Selection(2 Days)"
   ]
  },
  {
   "cell_type": "markdown",
   "id": "7bd65362",
   "metadata": {},
   "source": [
    "### Clone Repository"
   ]
  },
  {
   "cell_type": "code",
   "execution_count": null,
   "id": "0307766e",
   "metadata": {},
   "outputs": [],
   "source": [
    "git clone url"
   ]
  },
  {
   "cell_type": "code",
   "execution_count": null,
   "id": "3b77f219",
   "metadata": {},
   "outputs": [],
   "source": []
  },
  {
   "cell_type": "markdown",
   "id": "c3b493d7",
   "metadata": {},
   "source": [
    "### git version"
   ]
  },
  {
   "cell_type": "code",
   "execution_count": null,
   "id": "17731c56",
   "metadata": {},
   "outputs": [],
   "source": [
    "git --version \n",
    "\n",
    "2.41.0.windows.1"
   ]
  },
  {
   "cell_type": "markdown",
   "id": "82faa3d6",
   "metadata": {},
   "source": [
    "### repository"
   ]
  },
  {
   "cell_type": "code",
   "execution_count": null,
   "id": "0ae7dc0d",
   "metadata": {},
   "outputs": [],
   "source": [
    "A repository contains all of your project's files, revision history, and collaborator discussion."
   ]
  },
  {
   "cell_type": "markdown",
   "id": "807d25e2",
   "metadata": {},
   "source": [
    "### README file"
   ]
  },
  {
   "cell_type": "code",
   "execution_count": null,
   "id": "ef8f9375",
   "metadata": {},
   "outputs": [],
   "source": [
    "This is where you can write a long description for your project.\n",
    "\n",
    "filename >> README.md\n",
    "\n",
    "\n",
    "You can add a README file to your repository to tell other people:\n",
    "    1. why your project is useful,\n",
    "    2. what they can do with your project\n",
    "    3. how they can use it.\n",
    "    4. Where users can get help with your project\n",
    "    5. Who maintains and contributes to the project\n",
    "\n",
    "\n",
    "\n",
    "Documentation:\n",
    "    https://docs.github.com/en/repositories/managing-your-repositorys-settings-and-features/customizing-your-repository/about-readmes"
   ]
  },
  {
   "cell_type": "markdown",
   "id": "c4f26e19",
   "metadata": {},
   "source": [
    "### gitignore"
   ]
  },
  {
   "cell_type": "code",
   "execution_count": null,
   "id": "154cd1f4",
   "metadata": {},
   "outputs": [],
   "source": [
    "Choose which files not to track from a list of templates\n",
    "You can create a .gitignore file in your repository's root directory to tell Git which files \n",
    "and directories to ignore when you make a commit.\n",
    "\n",
    "*.png\n",
    "*.jpg\n",
    "*.csv"
   ]
  },
  {
   "cell_type": "code",
   "execution_count": null,
   "id": "3b9f8f75",
   "metadata": {},
   "outputs": [],
   "source": []
  },
  {
   "cell_type": "markdown",
   "id": "f791ef91",
   "metadata": {},
   "source": [
    "### Clone Repository"
   ]
  },
  {
   "cell_type": "code",
   "execution_count": null,
   "id": "7c1b296d",
   "metadata": {},
   "outputs": [],
   "source": [
    "git clone url\n",
    "\n",
    "git clone https://github.com/rahulkendre123/medical_insurence.git"
   ]
  },
  {
   "cell_type": "markdown",
   "id": "44fc18ac",
   "metadata": {},
   "source": [
    "### Check Status"
   ]
  },
  {
   "cell_type": "code",
   "execution_count": null,
   "id": "bf0b8daa",
   "metadata": {},
   "outputs": [],
   "source": [
    "git status\n",
    "\n",
    "modified\n",
    "Untracked\n",
    "Deleted\n",
    "committed\n",
    "\n",
    "Changes to be committed:\n",
    "  (use \"git restore --staged <file>...\" to unstage)\n",
    "        new file:   interface.py\n",
    "\n",
    "Changes not staged for commit:\n",
    "  (use \"git add <file>...\" to update what will be committed)\n",
    "  (use \"git restore <file>...\" to discard changes in working directory)\n",
    "        modified:   README.md\n",
    "\n",
    "Untracked files:\n",
    "  (use \"git add <file>...\" to include in what will be committed)\n",
    "        config.py"
   ]
  },
  {
   "cell_type": "markdown",
   "id": "ea136555",
   "metadata": {},
   "source": [
    "### Add Files"
   ]
  },
  {
   "cell_type": "code",
   "execution_count": null,
   "id": "1f8c4c81",
   "metadata": {},
   "outputs": [],
   "source": [
    "git add filename\n",
    "git add foldername\n",
    "\n",
    "git add --all\n",
    "git add ."
   ]
  },
  {
   "cell_type": "markdown",
   "id": "6538be0d",
   "metadata": {},
   "source": [
    "### Commit "
   ]
  },
  {
   "cell_type": "code",
   "execution_count": null,
   "id": "fe55d117",
   "metadata": {},
   "outputs": [],
   "source": [
    "git commit -m \"Your Message\"\n",
    "\n",
    "git commit -m \"initial commit\"\n",
    "\n",
    "git commit -m \"Added API file\""
   ]
  },
  {
   "cell_type": "markdown",
   "id": "f939e8bc",
   "metadata": {},
   "source": [
    "### push"
   ]
  },
  {
   "cell_type": "code",
   "execution_count": null,
   "id": "532bb406",
   "metadata": {},
   "outputs": [],
   "source": [
    "For single branch:\n",
    "    git push\n",
    "\n",
    "For Multiple Branches:\n",
    "    git push origin branch_name\n",
    "    "
   ]
  },
  {
   "cell_type": "markdown",
   "id": "9f05ddc6",
   "metadata": {},
   "source": [
    "### Branch"
   ]
  },
  {
   "cell_type": "raw",
   "id": "e9ee9a64",
   "metadata": {},
   "source": [
    "git branch"
   ]
  },
  {
   "cell_type": "markdown",
   "id": "ff67791b",
   "metadata": {},
   "source": [
    "### Create New Branch "
   ]
  },
  {
   "cell_type": "code",
   "execution_count": null,
   "id": "ba65ced7",
   "metadata": {},
   "outputs": [],
   "source": [
    "git checkout -b branch_name\n",
    "\n",
    "git checkout -b feature_selection\n"
   ]
  },
  {
   "cell_type": "markdown",
   "id": "d04b4da7",
   "metadata": {},
   "source": [
    "### Switch Branch"
   ]
  },
  {
   "cell_type": "code",
   "execution_count": null,
   "id": "06b912f1",
   "metadata": {},
   "outputs": [],
   "source": [
    "git checkout"
   ]
  },
  {
   "cell_type": "markdown",
   "id": "9507531e",
   "metadata": {},
   "source": [
    "### PULL"
   ]
  },
  {
   "cell_type": "code",
   "execution_count": null,
   "id": "2a5359c8",
   "metadata": {},
   "outputs": [],
   "source": [
    "For single branch:\n",
    "    git pull\n",
    "\n",
    "For Multiple Branches:\n",
    "    git pull origin branch_name\n",
    "    "
   ]
  },
  {
   "cell_type": "markdown",
   "id": "06f00f93",
   "metadata": {},
   "source": [
    "### Merge"
   ]
  },
  {
   "cell_type": "code",
   "execution_count": null,
   "id": "9ecdc8d3",
   "metadata": {},
   "outputs": [],
   "source": [
    "git merge new_branch_name old_branch_name"
   ]
  },
  {
   "cell_type": "code",
   "execution_count": null,
   "id": "3a0d22b4",
   "metadata": {},
   "outputs": [],
   "source": []
  },
  {
   "cell_type": "code",
   "execution_count": null,
   "id": "802894e4",
   "metadata": {},
   "outputs": [],
   "source": [
    "Project:\n",
    "    Team Lead\n",
    "    Emp1\n",
    "    \n",
    "    \n",
    "    Development:\n",
    "        Sprint1: \n",
    "            Missing values >> AIML-218(JIRA)\n",
    "            Outliers Handling >> AIML-219(JIRA)\n",
    "            Scaling >> AIML-220(JIRA)\n",
    "            Feature Engineering>> AIML-221(JIRA)\n",
    "    \n",
    "    Development:\n",
    "        Create Branch Name >> Missing values\n",
    "        2 days \n",
    "        PULL Request\n",
    "        Team Lead >> Review and merge\n",
    "        Team Lead >> Review and comment\n",
    "        PULL Request >> Review and merge\n",
    "        merge:\n",
    "            Complete >> Keep branch or delete branch\n",
    "    Development:\n",
    "        Create Branch Name >> Outliers Handling\n",
    "        3Days\n",
    "        PULL REQUEST\n",
    "        Approve"
   ]
  },
  {
   "cell_type": "code",
   "execution_count": null,
   "id": "db51392e",
   "metadata": {},
   "outputs": [],
   "source": [
    "Task Name:\n",
    "    Feature Selection"
   ]
  }
 ],
 "metadata": {
  "kernelspec": {
   "display_name": "Python 3 (ipykernel)",
   "language": "python",
   "name": "python3"
  },
  "language_info": {
   "codemirror_mode": {
    "name": "ipython",
    "version": 3
   },
   "file_extension": ".py",
   "mimetype": "text/x-python",
   "name": "python",
   "nbconvert_exporter": "python",
   "pygments_lexer": "ipython3",
   "version": "3.10.7"
  }
 },
 "nbformat": 4,
 "nbformat_minor": 5
}
